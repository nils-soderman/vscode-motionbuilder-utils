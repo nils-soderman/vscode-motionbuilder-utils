{
 "cells": [
  {
   "cell_type": "code",
   "execution_count": null,
   "metadata": {},
   "outputs": [
    {
     "data": {
      "text/plain": [
       "25.0.0.13"
      ]
     },
     "metadata": {},
     "output_type": "display_data"
    }
   ],
   "source": [
    "from pyfbsdk import *\n",
    "\n",
    "print(FBSystem().BuildVersion)"
   ]
  },
  {
   "cell_type": "code",
   "execution_count": null,
   "metadata": {},
   "outputs": [
    {
     "data": {
      "text/plain": [
       "\u001b[91mTraceback (most recent call last):\n",
       "  File \"c:\\Users\\rymdn\\work\\code\\vscode-plugins\\vscode-motionbuilder-utils\\test\\notebook-test.ipynb\", line 2, in <module>\n",
       "    1/0\n",
       "    ~^~\n",
       "ZeroDivisionError: division by zero\n",
       "\u001b[0m"
      ]
     },
     "metadata": {},
     "output_type": "display_data"
    }
   ],
   "source": [
    "# Error test\n",
    "1/0"
   ]
  }
 ],
 "metadata": {
  "language_info": {
   "name": "python"
  }
 },
 "nbformat": 4,
 "nbformat_minor": 2
}
